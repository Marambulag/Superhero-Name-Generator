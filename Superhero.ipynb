{
  "cells": [
    {
      "cell_type": "markdown",
      "metadata": {
        "id": "21XXWP7Fpt2L"
      },
      "source": [
        "# Superhero (and Supervillain) Name Generator\n",
        "\n",
        "---\n",
        "Manuel Arambula\n",
        "[Superhero Names Dataset](https://github.com/am1tyadav/superhero)\n",
        "\n",
        "Guided project [Superhero Name Generator](https://www.coursera.org/programs/la-triada-pyiv5/projects/superhero-tensorflow?authProvider=coursera4deymonterrey)"
      ]
    },
    {
      "cell_type": "markdown",
      "metadata": {
        "id": "H6P0NU5Cpt2R"
      },
      "source": [
        "## Task\n",
        "\n",
        "1. Import the data\n",
        "2. Create a tokenizer\n",
        "3. Char to index and Index to char dictionaries"
      ]
    },
    {
      "cell_type": "code",
      "execution_count": 1,
      "metadata": {
        "colab": {
          "base_uri": "https://localhost:8080/"
        },
        "id": "srULhalZpt2M",
        "outputId": "f1766e5f-5cdb-4830-f85d-d6d67c0722ea"
      },
      "outputs": [
        {
          "output_type": "stream",
          "name": "stdout",
          "text": [
            "Cloning into 'superhero'...\n",
            "remote: Enumerating objects: 8, done.\u001b[K\n",
            "remote: Counting objects: 100% (8/8), done.\u001b[K\n",
            "remote: Compressing objects: 100% (7/7), done.\u001b[K\n",
            "remote: Total 8 (delta 0), reused 4 (delta 0), pack-reused 0 (from 0)\u001b[K\n",
            "Receiving objects: 100% (8/8), 47.08 KiB | 376.00 KiB/s, done.\n"
          ]
        }
      ],
      "source": [
        "!git clone https://github.com/am1tyadav/superhero"
      ]
    },
    {
      "cell_type": "code",
      "execution_count": 2,
      "metadata": {
        "colab": {
          "base_uri": "https://localhost:8080/",
          "height": 35
        },
        "id": "uq4CLmsLpt2P",
        "outputId": "78c1bbe0-6d47-4876-fb51-d133741cafa5"
      },
      "outputs": [
        {
          "output_type": "execute_result",
          "data": {
            "text/plain": [
              "'jumpa\\t\\ndoctor fate\\t\\nstarlight\\t\\nisildur\\t\\nlasher\\t\\nvarvara\\t\\nthe target\\t\\naxel\\t\\nbattra\\t\\nchangeling\\t\\npyrrh'"
            ],
            "application/vnd.google.colaboratory.intrinsic+json": {
              "type": "string"
            }
          },
          "metadata": {},
          "execution_count": 2
        }
      ],
      "source": [
        "with open('superhero/superheroes.txt', 'r') as f:\n",
        "  data = f.read()\n",
        "\n",
        "data[:100]"
      ]
    },
    {
      "cell_type": "code",
      "execution_count": 1,
      "metadata": {
        "colab": {
          "base_uri": "https://localhost:8080/"
        },
        "id": "JqhtLuAHpt2R",
        "outputId": "40aaed86-254c-4049-b64e-680f48c22702"
      },
      "outputs": [
        {
          "output_type": "stream",
          "name": "stdout",
          "text": [
            "2.17.0\n"
          ]
        }
      ],
      "source": [
        "import tensorflow as tf\n",
        "print(tf.__version__)"
      ]
    },
    {
      "cell_type": "code",
      "execution_count": 4,
      "metadata": {
        "id": "95Lo1Yqzpt2T"
      },
      "outputs": [],
      "source": [
        "tokenizer = tf.keras.preprocessing.text.Tokenizer(\n",
        "    filters='!\"#$%&()*+,-./:;<=>?@[\\\\]^_`{|}~',\n",
        "    split='\\n',\n",
        ")"
      ]
    },
    {
      "cell_type": "code",
      "execution_count": 5,
      "metadata": {
        "id": "qYfC4sj2pt2V"
      },
      "outputs": [],
      "source": [
        "tokenizer.fit_on_texts(data)"
      ]
    },
    {
      "cell_type": "code",
      "execution_count": 6,
      "metadata": {
        "colab": {
          "base_uri": "https://localhost:8080/"
        },
        "id": "EO4-dPM6pt2X",
        "outputId": "4c80d41e-d622-4d8a-de0f-47f11108aac6"
      },
      "outputs": [
        {
          "output_type": "stream",
          "name": "stdout",
          "text": [
            "{1: '\\t', 2: 'a', 3: 'e', 4: 'r', 5: 'o', 6: 'n', 7: 'i', 8: ' ', 9: 't', 10: 's', 11: 'l', 12: 'm', 13: 'h', 14: 'd', 15: 'c', 16: 'u', 17: 'g', 18: 'k', 19: 'b', 20: 'p', 21: 'y', 22: 'w', 23: 'f', 24: 'v', 25: 'j', 26: 'z', 27: 'x', 28: 'q'}\n"
          ]
        }
      ],
      "source": [
        "char_to_index = tokenizer.word_index\n",
        "index_to_char = dict((v, k) for k, v in char_to_index.items())\n",
        "\n",
        "print(index_to_char)"
      ]
    },
    {
      "cell_type": "markdown",
      "metadata": {
        "id": "SMwtIw_Bpt2Z"
      },
      "source": [
        "## Task\n",
        "\n",
        "1. Converting between names and sequences"
      ]
    },
    {
      "cell_type": "code",
      "execution_count": 7,
      "metadata": {
        "colab": {
          "base_uri": "https://localhost:8080/"
        },
        "id": "N7iQLIXzpt2a",
        "outputId": "36930f31-1ac5-4afa-c2bb-3fd3f700b675"
      },
      "outputs": [
        {
          "output_type": "execute_result",
          "data": {
            "text/plain": [
              "['jumpa\\t',\n",
              " 'doctor fate\\t',\n",
              " 'starlight\\t',\n",
              " 'isildur\\t',\n",
              " 'lasher\\t',\n",
              " 'varvara\\t',\n",
              " 'the target\\t',\n",
              " 'axel\\t',\n",
              " 'battra\\t',\n",
              " 'changeling\\t']"
            ]
          },
          "metadata": {},
          "execution_count": 7
        }
      ],
      "source": [
        "names = data.splitlines()\n",
        "names[:10]"
      ]
    },
    {
      "cell_type": "code",
      "execution_count": 8,
      "metadata": {
        "colab": {
          "base_uri": "https://localhost:8080/"
        },
        "id": "n_-TTfqipt2c",
        "outputId": "567cfda1-e804-441f-b673-241033d21042"
      },
      "outputs": [
        {
          "output_type": "execute_result",
          "data": {
            "text/plain": [
              "[[25], [16], [12], [20], [2], [1]]"
            ]
          },
          "metadata": {},
          "execution_count": 8
        }
      ],
      "source": [
        "tokenizer.texts_to_sequences(names[0])"
      ]
    },
    {
      "cell_type": "code",
      "execution_count": 9,
      "metadata": {
        "id": "P6IsKH1Upt2e"
      },
      "outputs": [],
      "source": [
        "def name_to_seq(name):\n",
        "  return [tokenizer.texts_to_sequences(c)[0][0] for c in name]"
      ]
    },
    {
      "cell_type": "code",
      "execution_count": 10,
      "metadata": {
        "colab": {
          "base_uri": "https://localhost:8080/"
        },
        "id": "TuLUiMP3pt2g",
        "outputId": "1d7bdbbf-e0bc-4b93-dbf7-9c363575228d"
      },
      "outputs": [
        {
          "output_type": "execute_result",
          "data": {
            "text/plain": [
              "[25, 16, 12, 20, 2, 1]"
            ]
          },
          "metadata": {},
          "execution_count": 10
        }
      ],
      "source": [
        "name_to_seq(names[0])"
      ]
    },
    {
      "cell_type": "code",
      "execution_count": 11,
      "metadata": {
        "id": "yFUYhimKpt2h"
      },
      "outputs": [],
      "source": [
        "def seq_to_name(seq):\n",
        "  return ''.join([index_to_char[i] for i in seq if i != 0])"
      ]
    },
    {
      "cell_type": "code",
      "execution_count": 12,
      "metadata": {
        "colab": {
          "base_uri": "https://localhost:8080/",
          "height": 35
        },
        "id": "ROhCqmhLpt2k",
        "outputId": "8d67b896-6c5e-4b51-cac0-b9d8c96627a8"
      },
      "outputs": [
        {
          "output_type": "execute_result",
          "data": {
            "text/plain": [
              "'jumpa\\t'"
            ],
            "application/vnd.google.colaboratory.intrinsic+json": {
              "type": "string"
            }
          },
          "metadata": {},
          "execution_count": 12
        }
      ],
      "source": [
        "seq_to_name(name_to_seq(names[0]))"
      ]
    },
    {
      "cell_type": "markdown",
      "metadata": {
        "id": "uCbAzsNjpt2m"
      },
      "source": [
        "## Task\n",
        "\n",
        "1. Creating sequences\n",
        "2. Padding all sequences"
      ]
    },
    {
      "cell_type": "code",
      "execution_count": 13,
      "metadata": {
        "id": "zstNn-0dpt2m"
      },
      "outputs": [],
      "source": [
        "sequences= []\n",
        "\n",
        "for name in names:\n",
        "  seq = name_to_seq(name)\n",
        "  if len(seq) >= 2:\n",
        "    sequences += [seq[:i] for i in range(2, len(seq) + 1)]"
      ]
    },
    {
      "cell_type": "code",
      "execution_count": 14,
      "metadata": {
        "colab": {
          "base_uri": "https://localhost:8080/"
        },
        "id": "BjRTMysvpt2o",
        "outputId": "8e8cc702-427c-43e8-9ad6-add7e4ce6e01"
      },
      "outputs": [
        {
          "output_type": "execute_result",
          "data": {
            "text/plain": [
              "[[25, 16],\n",
              " [25, 16, 12],\n",
              " [25, 16, 12, 20],\n",
              " [25, 16, 12, 20, 2],\n",
              " [25, 16, 12, 20, 2, 1],\n",
              " [14, 5],\n",
              " [14, 5, 15],\n",
              " [14, 5, 15, 9],\n",
              " [14, 5, 15, 9, 5],\n",
              " [14, 5, 15, 9, 5, 4]]"
            ]
          },
          "metadata": {},
          "execution_count": 14
        }
      ],
      "source": [
        "sequences[:10]"
      ]
    },
    {
      "cell_type": "code",
      "execution_count": 15,
      "metadata": {
        "colab": {
          "base_uri": "https://localhost:8080/"
        },
        "id": "SR68pu2tpt2q",
        "outputId": "5b1388e1-6ab6-4e18-8ac9-331361439cb7"
      },
      "outputs": [
        {
          "output_type": "stream",
          "name": "stdout",
          "text": [
            "33\n"
          ]
        }
      ],
      "source": [
        "max_len = max([len(x) for x in sequences])\n",
        "print(max_len)"
      ]
    },
    {
      "cell_type": "code",
      "execution_count": 16,
      "metadata": {
        "colab": {
          "base_uri": "https://localhost:8080/"
        },
        "id": "h_1BtWO7pt2r",
        "outputId": "7431ee5b-c856-46b3-90ed-e3715a676ef6"
      },
      "outputs": [
        {
          "output_type": "stream",
          "name": "stdout",
          "text": [
            "[ 0  0  0  0  0  0  0  0  0  0  0  0  0  0  0  0  0  0  0  0  0  0  0  0\n",
            "  0  0  0  0  0  0  0 25 16]\n"
          ]
        }
      ],
      "source": [
        "padded_sequences = tf.keras.preprocessing.sequence.pad_sequences(\n",
        "    sequences, padding='pre',\n",
        "    maxlen=max_len\n",
        ")\n",
        "\n",
        "print(padded_sequences[0])"
      ]
    },
    {
      "cell_type": "code",
      "execution_count": null,
      "metadata": {
        "id": "sPlrLRpSpt2t"
      },
      "outputs": [],
      "source": [
        "padded_sequences.shape"
      ]
    },
    {
      "cell_type": "markdown",
      "metadata": {
        "id": "4WPypqx8RfRu"
      },
      "source": [
        "## Task : Creating Training and Validation Sets\n",
        "\n",
        "1. Creating training and validation sets"
      ]
    },
    {
      "cell_type": "code",
      "execution_count": 17,
      "metadata": {
        "colab": {
          "base_uri": "https://localhost:8080/"
        },
        "id": "BE4BIeSnpt2v",
        "outputId": "6fd61cc3-cb31-4048-867e-76ee7079f93d"
      },
      "outputs": [
        {
          "output_type": "stream",
          "name": "stdout",
          "text": [
            "(88279, 32) (88279,)\n"
          ]
        }
      ],
      "source": [
        "x, y = padded_sequences[:, :-1], padded_sequences[:, -1]\n",
        "print(x.shape, y.shape)"
      ]
    },
    {
      "cell_type": "code",
      "execution_count": 18,
      "metadata": {
        "colab": {
          "base_uri": "https://localhost:8080/"
        },
        "id": "jWKfJNVXRfRu",
        "outputId": "50610771-9b60-4fa8-b856-a237f71b9062"
      },
      "outputs": [
        {
          "output_type": "stream",
          "name": "stdout",
          "text": [
            "(66209, 32) (66209,)\n",
            "(22070, 32) (22070,)\n"
          ]
        }
      ],
      "source": [
        "from sklearn.model_selection import train_test_split\n",
        "\n",
        "x_train, x_test, y_train, y_test = train_test_split(x, y)\n",
        "\n",
        "print(x_train.shape, y_train.shape)\n",
        "print(x_test.shape, y_test.shape)"
      ]
    },
    {
      "cell_type": "code",
      "execution_count": 19,
      "metadata": {
        "colab": {
          "base_uri": "https://localhost:8080/"
        },
        "id": "cgqRZtqnpt2x",
        "outputId": "cb34e2ef-e613-4292-eb6b-9cadf1d68728"
      },
      "outputs": [
        {
          "output_type": "stream",
          "name": "stdout",
          "text": [
            "29\n"
          ]
        }
      ],
      "source": [
        "num_chars = len(char_to_index.keys()) + 1\n",
        "print(num_chars)"
      ]
    },
    {
      "cell_type": "markdown",
      "metadata": {
        "id": "UsM2fs3_RfRu"
      },
      "source": [
        "## Task: Creating the Model"
      ]
    },
    {
      "cell_type": "code",
      "execution_count": 20,
      "metadata": {
        "colab": {
          "base_uri": "https://localhost:8080/",
          "height": 324
        },
        "id": "2dPlCmTYRfRu",
        "outputId": "951ab4e2-5134-4100-b60f-5229c4aaed91"
      },
      "outputs": [
        {
          "output_type": "stream",
          "name": "stderr",
          "text": [
            "/usr/local/lib/python3.10/dist-packages/keras/src/layers/core/embedding.py:90: UserWarning: Argument `input_length` is deprecated. Just remove it.\n",
            "  warnings.warn(\n"
          ]
        },
        {
          "output_type": "display_data",
          "data": {
            "text/plain": [
              "\u001b[1mModel: \"sequential\"\u001b[0m\n"
            ],
            "text/html": [
              "<pre style=\"white-space:pre;overflow-x:auto;line-height:normal;font-family:Menlo,'DejaVu Sans Mono',consolas,'Courier New',monospace\"><span style=\"font-weight: bold\">Model: \"sequential\"</span>\n",
              "</pre>\n"
            ]
          },
          "metadata": {}
        },
        {
          "output_type": "display_data",
          "data": {
            "text/plain": [
              "┏━━━━━━━━━━━━━━━━━━━━━━━━━━━━━━━━━━━━━━┳━━━━━━━━━━━━━━━━━━━━━━━━━━━━━┳━━━━━━━━━━━━━━━━━┓\n",
              "┃\u001b[1m \u001b[0m\u001b[1mLayer (type)                        \u001b[0m\u001b[1m \u001b[0m┃\u001b[1m \u001b[0m\u001b[1mOutput Shape               \u001b[0m\u001b[1m \u001b[0m┃\u001b[1m \u001b[0m\u001b[1m        Param #\u001b[0m\u001b[1m \u001b[0m┃\n",
              "┡━━━━━━━━━━━━━━━━━━━━━━━━━━━━━━━━━━━━━━╇━━━━━━━━━━━━━━━━━━━━━━━━━━━━━╇━━━━━━━━━━━━━━━━━┩\n",
              "│ embedding (\u001b[38;5;33mEmbedding\u001b[0m)                │ ?                           │     \u001b[38;5;34m0\u001b[0m (unbuilt) │\n",
              "├──────────────────────────────────────┼─────────────────────────────┼─────────────────┤\n",
              "│ conv1d (\u001b[38;5;33mConv1D\u001b[0m)                      │ ?                           │     \u001b[38;5;34m0\u001b[0m (unbuilt) │\n",
              "├──────────────────────────────────────┼─────────────────────────────┼─────────────────┤\n",
              "│ max_pooling1d (\u001b[38;5;33mMaxPooling1D\u001b[0m)         │ ?                           │     \u001b[38;5;34m0\u001b[0m (unbuilt) │\n",
              "├──────────────────────────────────────┼─────────────────────────────┼─────────────────┤\n",
              "│ lstm (\u001b[38;5;33mLSTM\u001b[0m)                          │ ?                           │     \u001b[38;5;34m0\u001b[0m (unbuilt) │\n",
              "├──────────────────────────────────────┼─────────────────────────────┼─────────────────┤\n",
              "│ dense (\u001b[38;5;33mDense\u001b[0m)                        │ ?                           │     \u001b[38;5;34m0\u001b[0m (unbuilt) │\n",
              "└──────────────────────────────────────┴─────────────────────────────┴─────────────────┘\n"
            ],
            "text/html": [
              "<pre style=\"white-space:pre;overflow-x:auto;line-height:normal;font-family:Menlo,'DejaVu Sans Mono',consolas,'Courier New',monospace\">┏━━━━━━━━━━━━━━━━━━━━━━━━━━━━━━━━━━━━━━┳━━━━━━━━━━━━━━━━━━━━━━━━━━━━━┳━━━━━━━━━━━━━━━━━┓\n",
              "┃<span style=\"font-weight: bold\"> Layer (type)                         </span>┃<span style=\"font-weight: bold\"> Output Shape                </span>┃<span style=\"font-weight: bold\">         Param # </span>┃\n",
              "┡━━━━━━━━━━━━━━━━━━━━━━━━━━━━━━━━━━━━━━╇━━━━━━━━━━━━━━━━━━━━━━━━━━━━━╇━━━━━━━━━━━━━━━━━┩\n",
              "│ embedding (<span style=\"color: #0087ff; text-decoration-color: #0087ff\">Embedding</span>)                │ ?                           │     <span style=\"color: #00af00; text-decoration-color: #00af00\">0</span> (unbuilt) │\n",
              "├──────────────────────────────────────┼─────────────────────────────┼─────────────────┤\n",
              "│ conv1d (<span style=\"color: #0087ff; text-decoration-color: #0087ff\">Conv1D</span>)                      │ ?                           │     <span style=\"color: #00af00; text-decoration-color: #00af00\">0</span> (unbuilt) │\n",
              "├──────────────────────────────────────┼─────────────────────────────┼─────────────────┤\n",
              "│ max_pooling1d (<span style=\"color: #0087ff; text-decoration-color: #0087ff\">MaxPooling1D</span>)         │ ?                           │     <span style=\"color: #00af00; text-decoration-color: #00af00\">0</span> (unbuilt) │\n",
              "├──────────────────────────────────────┼─────────────────────────────┼─────────────────┤\n",
              "│ lstm (<span style=\"color: #0087ff; text-decoration-color: #0087ff\">LSTM</span>)                          │ ?                           │     <span style=\"color: #00af00; text-decoration-color: #00af00\">0</span> (unbuilt) │\n",
              "├──────────────────────────────────────┼─────────────────────────────┼─────────────────┤\n",
              "│ dense (<span style=\"color: #0087ff; text-decoration-color: #0087ff\">Dense</span>)                        │ ?                           │     <span style=\"color: #00af00; text-decoration-color: #00af00\">0</span> (unbuilt) │\n",
              "└──────────────────────────────────────┴─────────────────────────────┴─────────────────┘\n",
              "</pre>\n"
            ]
          },
          "metadata": {}
        },
        {
          "output_type": "display_data",
          "data": {
            "text/plain": [
              "\u001b[1m Total params: \u001b[0m\u001b[38;5;34m0\u001b[0m (0.00 B)\n"
            ],
            "text/html": [
              "<pre style=\"white-space:pre;overflow-x:auto;line-height:normal;font-family:Menlo,'DejaVu Sans Mono',consolas,'Courier New',monospace\"><span style=\"font-weight: bold\"> Total params: </span><span style=\"color: #00af00; text-decoration-color: #00af00\">0</span> (0.00 B)\n",
              "</pre>\n"
            ]
          },
          "metadata": {}
        },
        {
          "output_type": "display_data",
          "data": {
            "text/plain": [
              "\u001b[1m Trainable params: \u001b[0m\u001b[38;5;34m0\u001b[0m (0.00 B)\n"
            ],
            "text/html": [
              "<pre style=\"white-space:pre;overflow-x:auto;line-height:normal;font-family:Menlo,'DejaVu Sans Mono',consolas,'Courier New',monospace\"><span style=\"font-weight: bold\"> Trainable params: </span><span style=\"color: #00af00; text-decoration-color: #00af00\">0</span> (0.00 B)\n",
              "</pre>\n"
            ]
          },
          "metadata": {}
        },
        {
          "output_type": "display_data",
          "data": {
            "text/plain": [
              "\u001b[1m Non-trainable params: \u001b[0m\u001b[38;5;34m0\u001b[0m (0.00 B)\n"
            ],
            "text/html": [
              "<pre style=\"white-space:pre;overflow-x:auto;line-height:normal;font-family:Menlo,'DejaVu Sans Mono',consolas,'Courier New',monospace\"><span style=\"font-weight: bold\"> Non-trainable params: </span><span style=\"color: #00af00; text-decoration-color: #00af00\">0</span> (0.00 B)\n",
              "</pre>\n"
            ]
          },
          "metadata": {}
        }
      ],
      "source": [
        "from tensorflow.keras.models import Sequential\n",
        "from tensorflow.keras.layers import Embedding, Conv1D, MaxPool1D, LSTM\n",
        "from tensorflow.keras.layers import Bidirectional, Dense\n",
        "\n",
        "model = Sequential([\n",
        "                    Embedding(num_chars, 8, input_length=max_len-1),\n",
        "                    Conv1D(64, 5, strides=1, activation='tanh', padding='causal'),\n",
        "                    MaxPool1D(2),\n",
        "                    LSTM(32),\n",
        "                    Dense(num_chars, activation='softmax')\n",
        "])\n",
        "\n",
        "model.compile(\n",
        "    loss='sparse_categorical_crossentropy',\n",
        "    optimizer='adam',\n",
        "    metrics=['accuracy']\n",
        ")\n",
        "\n",
        "model.summary()"
      ]
    },
    {
      "cell_type": "markdown",
      "metadata": {
        "id": "du_WBvUHRfRu"
      },
      "source": [
        "## Task: Training the Model"
      ]
    },
    {
      "cell_type": "code",
      "execution_count": 21,
      "metadata": {
        "colab": {
          "base_uri": "https://localhost:8080/"
        },
        "id": "j0Ssl4qupt22",
        "outputId": "57e7f904-0f53-48fe-8d7b-b5cd0870fbce"
      },
      "outputs": [
        {
          "output_type": "stream",
          "name": "stdout",
          "text": [
            "Epoch 1/50\n",
            "2070/2070 - 19s - 9ms/step - accuracy: 0.1906 - loss: 2.7426 - val_accuracy: 0.2226 - val_loss: 2.5885\n",
            "Epoch 2/50\n",
            "2070/2070 - 15s - 7ms/step - accuracy: 0.2392 - loss: 2.5323 - val_accuracy: 0.2433 - val_loss: 2.5006\n",
            "Epoch 3/50\n",
            "2070/2070 - 20s - 10ms/step - accuracy: 0.2555 - loss: 2.4645 - val_accuracy: 0.2552 - val_loss: 2.4496\n",
            "Epoch 4/50\n",
            "2070/2070 - 24s - 12ms/step - accuracy: 0.2675 - loss: 2.4159 - val_accuracy: 0.2650 - val_loss: 2.4089\n",
            "Epoch 5/50\n",
            "2070/2070 - 16s - 8ms/step - accuracy: 0.2785 - loss: 2.3778 - val_accuracy: 0.2765 - val_loss: 2.3818\n",
            "Epoch 6/50\n",
            "2070/2070 - 12s - 6ms/step - accuracy: 0.2898 - loss: 2.3439 - val_accuracy: 0.2829 - val_loss: 2.3557\n",
            "Epoch 7/50\n",
            "2070/2070 - 21s - 10ms/step - accuracy: 0.2987 - loss: 2.3145 - val_accuracy: 0.2874 - val_loss: 2.3333\n",
            "Epoch 8/50\n",
            "2070/2070 - 21s - 10ms/step - accuracy: 0.3045 - loss: 2.2885 - val_accuracy: 0.3004 - val_loss: 2.3209\n",
            "Epoch 9/50\n",
            "2070/2070 - 19s - 9ms/step - accuracy: 0.3148 - loss: 2.2654 - val_accuracy: 0.3048 - val_loss: 2.2994\n",
            "Epoch 10/50\n",
            "2070/2070 - 21s - 10ms/step - accuracy: 0.3205 - loss: 2.2429 - val_accuracy: 0.3105 - val_loss: 2.2875\n",
            "Epoch 11/50\n",
            "2070/2070 - 19s - 9ms/step - accuracy: 0.3282 - loss: 2.2233 - val_accuracy: 0.3153 - val_loss: 2.2741\n",
            "Epoch 12/50\n",
            "2070/2070 - 13s - 6ms/step - accuracy: 0.3345 - loss: 2.2042 - val_accuracy: 0.3184 - val_loss: 2.2678\n",
            "Epoch 13/50\n",
            "2070/2070 - 12s - 6ms/step - accuracy: 0.3396 - loss: 2.1874 - val_accuracy: 0.3250 - val_loss: 2.2573\n",
            "Epoch 14/50\n",
            "2070/2070 - 21s - 10ms/step - accuracy: 0.3446 - loss: 2.1721 - val_accuracy: 0.3276 - val_loss: 2.2495\n",
            "Epoch 15/50\n",
            "2070/2070 - 11s - 5ms/step - accuracy: 0.3493 - loss: 2.1561 - val_accuracy: 0.3275 - val_loss: 2.2422\n",
            "Epoch 16/50\n",
            "2070/2070 - 12s - 6ms/step - accuracy: 0.3535 - loss: 2.1437 - val_accuracy: 0.3294 - val_loss: 2.2388\n",
            "Epoch 17/50\n",
            "2070/2070 - 20s - 10ms/step - accuracy: 0.3575 - loss: 2.1314 - val_accuracy: 0.3364 - val_loss: 2.2296\n",
            "Epoch 18/50\n",
            "2070/2070 - 21s - 10ms/step - accuracy: 0.3617 - loss: 2.1193 - val_accuracy: 0.3394 - val_loss: 2.2266\n",
            "Epoch 19/50\n",
            "2070/2070 - 12s - 6ms/step - accuracy: 0.3657 - loss: 2.1074 - val_accuracy: 0.3395 - val_loss: 2.2242\n",
            "Epoch 20/50\n",
            "2070/2070 - 11s - 5ms/step - accuracy: 0.3673 - loss: 2.0977 - val_accuracy: 0.3418 - val_loss: 2.2175\n",
            "Epoch 21/50\n",
            "2070/2070 - 21s - 10ms/step - accuracy: 0.3708 - loss: 2.0870 - val_accuracy: 0.3416 - val_loss: 2.2191\n",
            "Epoch 22/50\n",
            "2070/2070 - 12s - 6ms/step - accuracy: 0.3733 - loss: 2.0779 - val_accuracy: 0.3426 - val_loss: 2.2143\n",
            "Epoch 23/50\n",
            "2070/2070 - 21s - 10ms/step - accuracy: 0.3767 - loss: 2.0691 - val_accuracy: 0.3451 - val_loss: 2.2121\n",
            "Epoch 24/50\n",
            "2070/2070 - 20s - 9ms/step - accuracy: 0.3792 - loss: 2.0606 - val_accuracy: 0.3447 - val_loss: 2.2131\n",
            "Epoch 25/50\n",
            "2070/2070 - 21s - 10ms/step - accuracy: 0.3826 - loss: 2.0528 - val_accuracy: 0.3480 - val_loss: 2.2094\n",
            "Epoch 26/50\n",
            "2070/2070 - 21s - 10ms/step - accuracy: 0.3851 - loss: 2.0443 - val_accuracy: 0.3465 - val_loss: 2.2068\n",
            "Epoch 27/50\n",
            "2070/2070 - 11s - 5ms/step - accuracy: 0.3883 - loss: 2.0366 - val_accuracy: 0.3488 - val_loss: 2.2054\n",
            "Epoch 28/50\n",
            "2070/2070 - 21s - 10ms/step - accuracy: 0.3902 - loss: 2.0297 - val_accuracy: 0.3508 - val_loss: 2.2064\n",
            "Epoch 29/50\n",
            "2070/2070 - 21s - 10ms/step - accuracy: 0.3928 - loss: 2.0234 - val_accuracy: 0.3528 - val_loss: 2.2072\n",
            "Epoch 30/50\n",
            "2070/2070 - 19s - 9ms/step - accuracy: 0.3935 - loss: 2.0168 - val_accuracy: 0.3517 - val_loss: 2.2032\n",
            "Epoch 31/50\n",
            "2070/2070 - 21s - 10ms/step - accuracy: 0.3958 - loss: 2.0107 - val_accuracy: 0.3499 - val_loss: 2.2054\n",
            "Epoch 32/50\n",
            "2070/2070 - 21s - 10ms/step - accuracy: 0.3984 - loss: 2.0055 - val_accuracy: 0.3536 - val_loss: 2.1994\n",
            "Epoch 33/50\n",
            "2070/2070 - 12s - 6ms/step - accuracy: 0.4009 - loss: 1.9991 - val_accuracy: 0.3518 - val_loss: 2.2017\n",
            "Epoch 34/50\n",
            "2070/2070 - 19s - 9ms/step - accuracy: 0.4016 - loss: 1.9941 - val_accuracy: 0.3569 - val_loss: 2.1973\n",
            "Epoch 35/50\n",
            "2070/2070 - 21s - 10ms/step - accuracy: 0.4041 - loss: 1.9884 - val_accuracy: 0.3553 - val_loss: 2.2005\n",
            "Epoch 36/50\n",
            "2070/2070 - 21s - 10ms/step - accuracy: 0.4032 - loss: 1.9836 - val_accuracy: 0.3523 - val_loss: 2.2031\n",
            "Epoch 37/50\n",
            "2070/2070 - 21s - 10ms/step - accuracy: 0.4060 - loss: 1.9789 - val_accuracy: 0.3562 - val_loss: 2.2026\n"
          ]
        }
      ],
      "source": [
        "h = model.fit(\n",
        "    x_train, y_train,\n",
        "    validation_data=(x_test, y_test),\n",
        "    epochs=50, verbose=2,\n",
        "    callbacks=[\n",
        "               tf.keras.callbacks.EarlyStopping(monitor='val_accuracy', patience=3)\n",
        "    ]\n",
        ")"
      ]
    },
    {
      "cell_type": "code",
      "execution_count": 22,
      "metadata": {
        "colab": {
          "base_uri": "https://localhost:8080/",
          "height": 430
        },
        "id": "AkkG3lEOm4OS",
        "outputId": "3e51e29e-9a57-4250-f29b-b60219522d42"
      },
      "outputs": [
        {
          "output_type": "display_data",
          "data": {
            "text/plain": [
              "<Figure size 640x480 with 1 Axes>"
            ],
            "image/png": "[encoded data removed]"
          },
          "metadata": {}
        }
      ],
      "source": [
        "from matplotlib import pyplot as plt\n",
        "\n",
        "epochs_ran = len(h.history['loss'])\n",
        "\n",
        "plt.plot(range(0, epochs_ran), h.history['val_accuracy'], label='Validation')\n",
        "plt.plot(range(0, epochs_ran), h.history['accuracy'], label='Training')\n",
        "plt.legend()\n",
        "plt.show()"
      ]
    },
    {
      "cell_type": "markdown",
      "metadata": {
        "id": "j74nkW5xRfRu"
      },
      "source": [
        "## Task : Generate Names!"
      ]
    },
    {
      "cell_type": "code",
      "execution_count": 25,
      "metadata": {
        "id": "9f50aTRcpt24"
      },
      "outputs": [],
      "source": [
        "def generate_names(seed):\n",
        "  for i in range(0, 40):\n",
        "    seq = name_to_seq(seed)\n",
        "    padded = tf.keras.preprocessing.sequence.pad_sequences([seq], padding='pre',\n",
        "                                                           maxlen=max_len-1,\n",
        "                                                           truncating='pre')\n",
        "    pred = model.predict(padded)[0]\n",
        "    pred_char = index_to_char[tf.argmax(pred).numpy()]\n",
        "    seed += pred_char\n",
        "\n",
        "    if pred_char == '\\t':\n",
        "      break\n",
        "  print(seed)"
      ]
    },
    {
      "cell_type": "code",
      "execution_count": 39,
      "metadata": {
        "colab": {
          "base_uri": "https://localhost:8080/"
        },
        "id": "faQ0FInlpt26",
        "outputId": "9366f576-9b4e-4ff2-80ac-8ce42d292963"
      },
      "outputs": [
        {
          "output_type": "stream",
          "name": "stdout",
          "text": [
            "\u001b[1m1/1\u001b[0m \u001b[32m━━━━━━━━━━━━━━━━━━━━\u001b[0m\u001b[37m\u001b[0m \u001b[1m0s\u001b[0m 18ms/step\n",
            "\u001b[1m1/1\u001b[0m \u001b[32m━━━━━━━━━━━━━━━━━━━━\u001b[0m\u001b[37m\u001b[0m \u001b[1m0s\u001b[0m 18ms/step\n",
            "\u001b[1m1/1\u001b[0m \u001b[32m━━━━━━━━━━━━━━━━━━━━\u001b[0m\u001b[37m\u001b[0m \u001b[1m0s\u001b[0m 17ms/step\n",
            "\u001b[1m1/1\u001b[0m \u001b[32m━━━━━━━━━━━━━━━━━━━━\u001b[0m\u001b[37m\u001b[0m \u001b[1m0s\u001b[0m 17ms/step\n",
            "\u001b[1m1/1\u001b[0m \u001b[32m━━━━━━━━━━━━━━━━━━━━\u001b[0m\u001b[37m\u001b[0m \u001b[1m0s\u001b[0m 18ms/step\n",
            "\u001b[1m1/1\u001b[0m \u001b[32m━━━━━━━━━━━━━━━━━━━━\u001b[0m\u001b[37m\u001b[0m \u001b[1m0s\u001b[0m 17ms/step\n",
            "taskiller\t\n"
          ]
        }
      ],
      "source": [
        "generate_names('task')"
      ]
    }
  ],
  "metadata": {
    "accelerator": "GPU",
    "colab": {
      "provenance": []
    },
    "kernelspec": {
      "display_name": "Python 3",
      "language": "python",
      "name": "python3"
    },
    "language_info": {
      "codemirror_mode": {
        "name": "ipython",
        "version": 3
      },
      "file_extension": ".py",
      "mimetype": "text/x-python",
      "name": "python",
      "nbconvert_exporter": "python",
      "pygments_lexer": "ipython3",
      "version": "3.8.5"
    }
  },
  "nbformat": 4,
  "nbformat_minor": 0
}